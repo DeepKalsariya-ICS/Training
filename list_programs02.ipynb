{
 "cells": [
  {
   "cell_type": "code",
   "execution_count": 1,
   "metadata": {},
   "outputs": [],
   "source": [
    "# 1.\n",
    "# Simple way to keep asking user for input it stops until user enters nothing.\n",
    "# while True:\n",
    "#     value = input(\"Enter any value : \")\n",
    "#     if not value:\n",
    "#         break\n",
    "#     print (\"\\n Your value : \",value)\n",
    "\n",
    "# 2. \n",
    "# Write a python program to add multiple values from user  into a list, Find out the type of a value and store that value as its type\n",
    "# a.  Input will be string all the time but we can still see if it is integer value or not by string functions, use then to determine the value type and then convert the value and then store inside a list\\\n",
    "# b.  Keep adding the value from the user until user enters nothing.\n",
    "\n",
    "# 3. \n",
    "# Enter only integer values into a list from user. Keep adding the value until user enters nothing, \n",
    "# a. If user’s entered value is not integer then give a warning message to user that the entered value is not integer and then ask for new value.\n",
    "# b. At the end print the list with all its integer value(Type of those values must be integer)\n",
    "\n",
    "# 4. \n",
    "# Manage a shopping list with python list,\n",
    "# a. Enter shopping item from user into a list,\n",
    "# b. Keep asking for item names until user enters nothing.\n",
    "# c. At the end print the list.\n",
    "\n",
    "# 5.\n",
    "# Manage two lists to store an integer values.\n",
    "# a. Enter value from user\n",
    "# b. If the value is odd number then store that number into first list\n",
    "# c. If the value is even number then store that number into second list\n",
    "# d. At the end print both list\n",
    "# e. Also print one maximum number out of two lists\n",
    "\n",
    "# 6. \n",
    "# Manage two lists, so that you can manage customer name and customer shopping list\n",
    "# a. In one list enter customer name.\n",
    "# b. In second list enter customer shopping items\n",
    "# c. So it will look like this\n",
    "            # Lst1 = [‘Bhaskar’, ’Vishal’, ‘Dhara’]\n",
    "            # Lst2 = [[‘apple’,’orange’], [‘banana’,’weat floor’], [‘butter milk’,’apple juice’]]\n",
    "# d. Print the two lists like this:\n",
    "            # Bhaskar : [‘apple’,’orange’]\n",
    "            # Vishal : [‘banana’,’weat floor’]\n",
    "            # Dhara : [‘butter milk’,’apple juice’]\n",
    "# Note : Keep asking user to enter values until user enters nothing.\n",
    "\n",
    "# 7.\n",
    "# Wite a python program to enter multiple values into a two lists and merge them but remove duplication of value only appear one time.\n",
    "# a. Do this with multiple ways/logics as many as you can.\n",
    "\n",
    "# 8.\n",
    "# a. Write a python program to manage shopping list.\n",
    "# b. Use list to store item name\n",
    "# c. Keep adding the items into list until user enters nothing\n",
    "        # Perform the below operations\n",
    "        # Display list\n",
    "        # Add one item into list\n",
    "        # Add multiple items into list\n",
    "        # Insert an item on a specific place into list\n",
    "        # Remove item from list(last item)\n",
    "        # Remove item from list(item name)\n",
    "        # Empty list\n"
   ]
  },
  {
   "cell_type": "code",
   "execution_count": 2,
   "metadata": {},
   "outputs": [
    {
     "name": "stdout",
     "output_type": "stream",
     "text": [
      "Your value :  1\n",
      "Your value :  a\n",
      "Your value :  xyz\n",
      "You Entered Nothing. Execution is stopped!!\n"
     ]
    }
   ],
   "source": [
    "# 1.\n",
    "# Simple way to keep asking user for input it stops until user enters nothing.\n",
    "while True:\n",
    "    value = input(\"Enter any value : \")\n",
    "    if not value:\n",
    "        print(\"You Entered Nothing. Execution is stopped!!\")\n",
    "        break\n",
    "    print (\"Your value : \",value)"
   ]
  },
  {
   "cell_type": "code",
   "execution_count": 3,
   "metadata": {},
   "outputs": [
    {
     "name": "stdout",
     "output_type": "stream",
     "text": [
      "Input is- Deep\n",
      "Input is- 41\n",
      "Input is- Python\n",
      "Input is- 331\n",
      "Input is- 0\n",
      "Input is- 55\n",
      "You Entered Nothing. Program is stopped!!\n",
      "\n",
      "List: ['Deep', 41, 'Python', 331, 0, 55]\n"
     ]
    }
   ],
   "source": [
    "# 2. \n",
    "# Write a python program to add multiple values from user  into a list, Find out the type of a value and store that value as its type\n",
    "# a.  Input will be string all the time but we can still see if it is integer value or not by string functions, use then to determine the value type and then convert the value and then store inside a list\\\n",
    "# b.  Keep adding the value from the user until user enters nothing.\n",
    "\n",
    "list1 = []\n",
    "\n",
    "while True:\n",
    "    value = input(\"Enter any value : \")\n",
    "    if not value:\n",
    "        print(\"You Entered Nothing. Program is stopped!!\")\n",
    "        break\n",
    "    print(f\"Input is- {value}\")\n",
    "    \n",
    "    if value.isnumeric():\n",
    "        list1.append(int(value))\n",
    "    else:\n",
    "        list1.append(value)\n",
    "        \n",
    "print(f\"\\nList: {list1}\")\n"
   ]
  },
  {
   "cell_type": "code",
   "execution_count": 4,
   "metadata": {},
   "outputs": [
    {
     "name": "stdout",
     "output_type": "stream",
     "text": [
      "Input is- 1\n",
      "Input is- 2\n",
      "Input is- 3\n",
      "Your entered value(abc) is non-Integer. Please Enter Integer value next time.\n",
      "Input is- 5\n",
      "Input is- 7\n",
      "You Entered Nothing. Program is stopped!!\n",
      "\n",
      "List: [1, 2, 3, 5, 7]\n"
     ]
    }
   ],
   "source": [
    "# 3. \n",
    "# Enter only integer values into a list from user. Keep adding the value until user enters nothing, \n",
    "# a. If user’s entered value is not integer then give a warning message to user that the entered value is not integer and then ask for new value.\n",
    "# b. At the end print the list with all its integer value(Type of those values must be integer)\n",
    "\n",
    "list1 = []\n",
    "\n",
    "while True:\n",
    "    value = input(\"Enter any value : \")\n",
    "    if not value:\n",
    "        print(\"You Entered Nothing. Program is stopped!!\")\n",
    "        break\n",
    "    \n",
    "    if value.isnumeric():\n",
    "        list1.append(int(value))\n",
    "        print(f\"Input is- {value}\")\n",
    "    elif not value.isnumeric():\n",
    "        print(f\"Your entered value({value}) is non-Integer. Please Enter Integer value next time.\")\n",
    "    \n",
    "        \n",
    "print(f\"\\nList: {list1}\")"
   ]
  },
  {
   "cell_type": "code",
   "execution_count": 5,
   "metadata": {},
   "outputs": [
    {
     "name": "stdout",
     "output_type": "stream",
     "text": [
      "Input is- Bag\n",
      "Input is- Book\n",
      "Input is- Pen\n",
      "You Entered Nothing. Program is stopped!!\n",
      "\n",
      "Your Shopping List: ['Bag', 'Book', 'Pen']\n"
     ]
    }
   ],
   "source": [
    "# 4. \n",
    "# Manage a shopping list with python list,\n",
    "# a. Enter shopping item from user into a list,\n",
    "# b. Keep asking for item names until user enters nothing.\n",
    "# c. At the end print the list.\n",
    "\n",
    "shopping_list = []\n",
    "\n",
    "while True:\n",
    "    value = input(\"Enter your item : \")\n",
    "    if not value:\n",
    "        print(\"You Entered Nothing. Program is stopped!!\")\n",
    "        break\n",
    "    print(f\"Input is- {value}\")\n",
    "    shopping_list.append(value)\n",
    "        \n",
    "print(f\"\\nYour Shopping List: {shopping_list}\")"
   ]
  },
  {
   "cell_type": "code",
   "execution_count": 6,
   "metadata": {},
   "outputs": [
    {
     "name": "stdout",
     "output_type": "stream",
     "text": [
      "Input is- 11\n",
      "Input is- 21\n",
      "Input is- 24224\n",
      "Input is- 55\n",
      "Input is- 772\n",
      "Input is- 9994\n",
      "You Entered Nothing. Program is stopped!!\n",
      "\n",
      " Even Numbers: [24224, 772, 9994]\n",
      " Odd Numbers: [11, 21, 55]\n",
      " Max Number: 24224\n"
     ]
    }
   ],
   "source": [
    "# 5.\n",
    "# Manage two lists to store an integer values.\n",
    "# a. Enter value from user\n",
    "# b. If the value is odd number then store that number into first list\n",
    "# c. If the value is even number then store that number into second list\n",
    "# d. At the end print both list\n",
    "# e. Also print one maximum number out of two lists\n",
    "\n",
    "odd_nums = []\n",
    "even_nums = []\n",
    "max_num = 0\n",
    "\n",
    "while True:\n",
    "    value = input(\"Enter any number: \")\n",
    "    if not value:\n",
    "        print(\"You Entered Nothing. Program is stopped!!\")\n",
    "        break\n",
    "    value = int(value)\n",
    "    print(f\"Input is- {value}\")\n",
    "    if value % 2 == 0:\n",
    "        even_nums.append(value)\n",
    "    else:\n",
    "        odd_nums.append(value)\n",
    "    max_num = max(max_num, value)\n",
    "\n",
    "print(f\"\\n Even Numbers: {even_nums}\")\n",
    "print(f\" Odd Numbers: {odd_nums}\")\n",
    "print(f\" Max Number: {max_num}\")"
   ]
  },
  {
   "cell_type": "code",
   "execution_count": 7,
   "metadata": {},
   "outputs": [
    {
     "name": "stdout",
     "output_type": "stream",
     "text": [
      "You entered: Deep\n",
      "You entered: Preet\n",
      "You entered: Dhanvi\n",
      "You entered nothing.\n",
      "List of customers: ['Deep', 'Preet', 'Dhanvi']\n",
      "\n",
      "Enter shopping items for Deep:\n",
      "You entered: Bag\n",
      "You entered: Book\n",
      "You entered: Pen\n",
      "You entered nothing.\n",
      "\n",
      "\n",
      "Enter shopping items for Preet:\n",
      "You entered: ungh\n",
      "You entered: paisa\n",
      "You entered nothing.\n",
      "\n",
      "\n",
      "Enter shopping items for Dhanvi:\n",
      "You entered: Apple\n",
      "You entered: Samsung M31\n",
      "You entered nothing.\n",
      "\n",
      "\n",
      "Customers: ['Deep', 'Preet', 'Dhanvi']\n",
      "\n",
      "Shopping List: [['Bag', 'Book', 'Pen'], ['ungh', 'paisa'], ['Apple', 'Samsung M31']]\n",
      "\n",
      "Deep:  ['Bag', 'Book', 'Pen']\n",
      "Preet:  ['ungh', 'paisa']\n",
      "Dhanvi:  ['Apple', 'Samsung M31']\n"
     ]
    },
    {
     "ename": "IndexError",
     "evalue": "list index out of range",
     "output_type": "error",
     "traceback": [
      "\u001b[0;31m---------------------------------------------------------------------------\u001b[0m",
      "\u001b[0;31mIndexError\u001b[0m                                Traceback (most recent call last)",
      "Cell \u001b[0;32mIn[7], line 48\u001b[0m\n\u001b[1;32m     45\u001b[0m \u001b[38;5;28mprint\u001b[39m(\u001b[38;5;124mf\u001b[39m\u001b[38;5;124m\"\u001b[39m\u001b[38;5;124mShopping List: \u001b[39m\u001b[38;5;132;01m{\u001b[39;00mitems\u001b[38;5;132;01m}\u001b[39;00m\u001b[38;5;130;01m\\n\u001b[39;00m\u001b[38;5;124m\"\u001b[39m)\n\u001b[1;32m     47\u001b[0m \u001b[38;5;28;01mfor\u001b[39;00m i \u001b[38;5;129;01min\u001b[39;00m \u001b[38;5;28mrange\u001b[39m(\u001b[38;5;28mlen\u001b[39m(customer)):\n\u001b[0;32m---> 48\u001b[0m     \u001b[38;5;28mprint\u001b[39m(\u001b[38;5;124mf\u001b[39m\u001b[38;5;124m\"\u001b[39m\u001b[38;5;132;01m{\u001b[39;00mcustomers[i]\u001b[38;5;132;01m}\u001b[39;00m\u001b[38;5;124m:  \u001b[39m\u001b[38;5;132;01m{\u001b[39;00mitems[i]\u001b[38;5;132;01m}\u001b[39;00m\u001b[38;5;124m\"\u001b[39m)\n",
      "\u001b[0;31mIndexError\u001b[0m: list index out of range"
     ]
    }
   ],
   "source": [
    "# 6. \n",
    "# Manage two lists, so that you can manage customer name and customer shopping list\n",
    "# a. In one list enter customer name.\n",
    "# b. In second list enter customer shopping items\n",
    "# c. So it will look like this\n",
    "            # Lst1 = [‘Bhaskar’, ’Vishal’, ‘Dhara’]\n",
    "            # Lst2 = [[‘apple’,’orange’], [‘banana’,’weat floor’], [‘butter milk’,’apple juice’]]\n",
    "# d. Print the two lists like this:\n",
    "            # Bhaskar : [‘apple’,’orange’]\n",
    "            # Vishal : [‘banana’,’weat floor’]\n",
    "            # Dhara : [‘butter milk’,’apple juice’]\n",
    "# Note : Keep asking user to enter values until user enters nothing.\n",
    "\n",
    "customers = []\n",
    "items =[]\n",
    "\n",
    "def enter_customer(list):\n",
    "    while True:\n",
    "        value = input(\"Enter customer name: \")\n",
    "        if not value:\n",
    "            print(\"You entered nothing.\")\n",
    "            break\n",
    "        print(f\"You entered: {value}\")\n",
    "        list.append(value)\n",
    "    print(f\"List of customers: {list}\\n\")\n",
    "\n",
    "def enter_item(list):\n",
    "    while True:\n",
    "        value = input(\"Enter shopping item: \")\n",
    "        if not value:\n",
    "            print(\"You entered nothing.\")\n",
    "            break\n",
    "        print(f\"You entered: {value}\")\n",
    "        list.append(value)\n",
    "    \n",
    "enter_customer(customers)\n",
    "for customer in customers:\n",
    "    print(f\"Enter shopping items for {customer}:\")\n",
    "    item_list = []\n",
    "    enter_item(item_list)\n",
    "    items.append(item_list)\n",
    "    print(\"\\n\")\n",
    "\n",
    "print(f\"Customers: {customers}\\n\")\n",
    "print(f\"Shopping List: {items}\\n\")\n",
    "\n",
    "for i in range(len(customer)):\n",
    "    print(f\"{customers[i]}:  {items[i]}\")\n",
    "\n"
   ]
  },
  {
   "cell_type": "code",
   "execution_count": 8,
   "metadata": {},
   "outputs": [
    {
     "name": "stdout",
     "output_type": "stream",
     "text": [
      "Enter value in list: \n",
      "List: [1, 2, 3, 4, 5]\n",
      "\n",
      "Enter value in list: \n",
      "List: [5, 6, 7, 8, 2]\n",
      "\n"
     ]
    }
   ],
   "source": [
    "# 7.\n",
    "# Wite a python program to enter multiple values into a two lists and merge them but remove duplication of value only appear one time.\n",
    "# a. Do this with multiple ways/logics as many as you can.\n",
    "\n",
    "# Creating Two Lists\n",
    "list01 = []\n",
    "list02 = []\n",
    "\n",
    "def add_values(list):\n",
    "    print(\"Enter value in list: \")\n",
    "    while True:\n",
    "        value = input(\"Enter any value : \")\n",
    "        if not value:\n",
    "            break\n",
    "        list.append(int(value))\n",
    "            \n",
    "    print(f\"List: {list}\\n\")\n",
    "\n",
    "add_values(list01)\n",
    "add_values(list02)\n"
   ]
  },
  {
   "cell_type": "code",
   "execution_count": 9,
   "metadata": {},
   "outputs": [
    {
     "name": "stdout",
     "output_type": "stream",
     "text": [
      "Final List: [1, 2, 3, 4, 5, 6, 7, 8]\n"
     ]
    }
   ],
   "source": [
    "# Method 1\n",
    "final_list01 = []\n",
    "final_list01.extend(list01)\n",
    "for element in list02:\n",
    "    if element not in final_list01:\n",
    "        final_list01.append(element)\n",
    "\n",
    "print(f\"Final List: {final_list01}\")"
   ]
  },
  {
   "cell_type": "code",
   "execution_count": 10,
   "metadata": {},
   "outputs": [
    {
     "name": "stdout",
     "output_type": "stream",
     "text": [
      "Final List: [1, 2, 3, 4, 5, 6, 7, 8]\n"
     ]
    }
   ],
   "source": [
    "# Method 2\n",
    "merged = list01 + list02\n",
    "merged_set = set(merged)\n",
    "final_list02 = list(merged_set)\n",
    "print(f\"Final List: {final_list02}\")"
   ]
  },
  {
   "cell_type": "code",
   "execution_count": 11,
   "metadata": {},
   "outputs": [
    {
     "name": "stdout",
     "output_type": "stream",
     "text": [
      "{1: 1, 2: 1, 3: 1, 4: 1, 5: 1}\n",
      "{1: 1, 2: 2, 3: 1, 4: 1, 5: 2, 6: 1, 7: 1, 8: 1}\n",
      "Final List: [1, 2, 3, 4, 5, 6, 7, 8]\n"
     ]
    }
   ],
   "source": [
    "# Method 3\n",
    "count_dict = {}\n",
    "def count_elements(lst):\n",
    "    global count_dict\n",
    "    for i in lst:\n",
    "        if i in count_dict:\n",
    "            count_dict[i] += 1\n",
    "        else: \n",
    "            count_dict[i] = 1\n",
    "    print(count_dict)\n",
    "\n",
    "count_elements(list01)\n",
    "count_elements(list02)\n",
    "\n",
    "final_list03 = [i for i in count_dict.keys()]\n",
    "print(f\"Final List: {final_list03}\")"
   ]
  },
  {
   "cell_type": "code",
   "execution_count": 15,
   "metadata": {},
   "outputs": [
    {
     "name": "stdout",
     "output_type": "stream",
     "text": [
      "You Entered Nothing. Program is stopped!!\n",
      "Displaying shopping list: ['Iphone', 'Macbook', 'Ipad']\n",
      "Displaying shopping list: ['Iphone', 'Macbook', 'Ipad', 'shoes']\n",
      "Displaying shopping list: ['Iphone', 'Macbook', 'Ipad', 'shoes', 'watch', 'glasses']\n",
      "Displaying shopping list: ['Iphone', 'Bag', 'Macbook', 'Ipad', 'shoes', 'watch', 'glasses']\n",
      "Displaying shopping list: ['Iphone', 'Bag', 'Macbook', 'Ipad', 'shoes', 'watch']\n",
      "Displaying shopping list: ['Iphone', 'Macbook', 'Ipad', 'shoes', 'watch']\n",
      "Displaying shopping list: []\n"
     ]
    }
   ],
   "source": [
    "# 8.\n",
    "# a. Write a python program to manage shopping list.\n",
    "# b. Use list to store item name\n",
    "# c. Keep adding the items into list until user enters nothing\n",
    "        # Perform the below operations\n",
    "        # Display list\n",
    "        # Add one item into list\n",
    "        # Add multiple items into list\n",
    "        # Insert an item on a specific place into list\n",
    "        # Remove item from list(last item)\n",
    "        # Remove item from list(item name)\n",
    "        # Empty list\n",
    "\n",
    "shopping_list = []\n",
    "while True:\n",
    "    item = input(\"Enter your shopping item: \")\n",
    "    if not item:\n",
    "        print(\"You Entered Nothing. Program is stopped!!\")\n",
    "        break\n",
    "    shopping_list.append(item)\n",
    "\n",
    "def display_list(lst):\n",
    "    print(f\"Displaying shopping list: {shopping_list}\")\n",
    "display_list(shopping_list)\n",
    "\n",
    "# Add one item into list\n",
    "item = \"shoes\"\n",
    "shopping_list.append(item)\n",
    "display_list(shopping_list)\n",
    "\n",
    "# Add multiple items into list\n",
    "items = ['watch', 'glasses']\n",
    "shopping_list.extend(items)\n",
    "display_list(shopping_list)\n",
    "\n",
    "# Insert an item on a specific place into list\n",
    "specific_place = 1\n",
    "item = 'Bag'\n",
    "shopping_list.insert(specific_place, item)\n",
    "display_list(shopping_list)\n",
    "\n",
    "# Remove item from list(last item)\n",
    "shopping_list.pop()\n",
    "display_list(shopping_list)\n",
    "\n",
    "# Remove item from list(item name)\n",
    "shopping_list.remove('Bag')\n",
    "display_list(shopping_list)\n",
    "\n",
    "# Empty list\n",
    "shopping_list.clear()\n",
    "display_list(shopping_list)"
   ]
  },
  {
   "cell_type": "code",
   "execution_count": null,
   "metadata": {},
   "outputs": [],
   "source": []
  }
 ],
 "metadata": {
  "kernelspec": {
   "display_name": "Python 3",
   "language": "python",
   "name": "python3"
  },
  "language_info": {
   "codemirror_mode": {
    "name": "ipython",
    "version": 3
   },
   "file_extension": ".py",
   "mimetype": "text/x-python",
   "name": "python",
   "nbconvert_exporter": "python",
   "pygments_lexer": "ipython3",
   "version": "3.8.10"
  }
 },
 "nbformat": 4,
 "nbformat_minor": 2
}
