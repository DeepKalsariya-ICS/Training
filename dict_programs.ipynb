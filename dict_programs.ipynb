{
 "cells": [
  {
   "cell_type": "code",
   "execution_count": 1,
   "metadata": {},
   "outputs": [],
   "source": [
    "# 1. Write a python program to switch places of key value in a dictionary.\n",
    "# 2. Write a python program to update a value in a dictionary with a specified key.\n",
    "# 3. Write a python program to update a value in a dictionary with a specified value.\n",
    "# 4. Write a python program to generate a dictionary from two lists\n",
    "    # Lst1 = [‘Bhaskar’, ’Vishal’, ‘Dhara’]\n",
    "    # Lst2 = [[‘apple’,’orange’], [‘banana’,’weat floor’], [‘butter milk’,’apple juice’]]\n",
    "        # Receive this two lists from user\n",
    "        # And create one dictionary like below.\n",
    "            # {Bhaskar’: [‘apple’,’orange’], ‘Vishal’: [‘banana’,’weat floor’], ‘Dhara’: [‘butter milk’,’apple juice’]}\n",
    "# 5. Write a python program to manage employee detail in dictionary.\n",
    "    # Example: {‘name’: ‘Bhaskar’, ‘mobile’: 9876543210, ‘city’: ‘Gandhinagar’, ‘email’: ‘bhaskar@mail.local’}\n",
    "# 6. Write a python program to manage product’s pricelist.\n",
    "    # Keep asking for key until the user enters nothing.\n",
    "    # Enter product(key) and its price(value)\n",
    "    # Entering key that is already added it should update the value with available key value pair.\n",
    "    # Print the dictionary in tabular format\n",
    "# 7. Write a python program to merge two dictionaries.\n",
    "    # Receive key and value input from user do that for 2 dictionaries.\n"
   ]
  },
  {
   "cell_type": "code",
   "execution_count": 2,
   "metadata": {},
   "outputs": [
    {
     "name": "stdout",
     "output_type": "stream",
     "text": [
      "Original Dictionary:\n",
      " {1: 'a', 2: 'b', 3: 'c', 4: 'd'}\n",
      "Dictionary after swapping key-value pairs:\n",
      " {'a': 1, 'b': 2, 'c': 3, 'd': 4}\n"
     ]
    }
   ],
   "source": [
    "# 1. Write a python program to switch places of key value in a dictionary.\n",
    "dict1 = {1: \"a\", 2: \"b\", 3: \"c\", 4: \"d\"}\n",
    "print(f\"Original Dictionary:\\n {dict1}\")\n",
    "items = list(dict1.items())\n",
    "dict1.clear()\n",
    "for key, value in items:\n",
    "    dict1[value] = key\n",
    "\n",
    "print(f\"Dictionary after swapping key-value pairs:\\n {dict1}\")"
   ]
  },
  {
   "cell_type": "code",
   "execution_count": 3,
   "metadata": {},
   "outputs": [
    {
     "name": "stdout",
     "output_type": "stream",
     "text": [
      "Original Dictionary:\n",
      " {'a': 1, 'b': 2, 'c': 3, 'd': 4}\n",
      "Dictionary after update:\n",
      " {'a': 1, 'b': 2, 'c': 3, 'd': 444}\n"
     ]
    }
   ],
   "source": [
    "# 2. Write a python program to update a value in a dictionary with a specified key.\n",
    "print(f\"Original Dictionary:\\n {dict1}\")\n",
    "\n",
    "dict1.update({'d': 444})\n",
    "print(f\"Dictionary after update:\\n {dict1}\")"
   ]
  },
  {
   "cell_type": "code",
   "execution_count": 4,
   "metadata": {},
   "outputs": [
    {
     "name": "stdout",
     "output_type": "stream",
     "text": [
      "Original Dictionary:\n",
      " {'a': 1, 'b': 2, 'c': 3, 'd': 444}\n",
      "Dictionary after update:\n",
      " {'a': 1, 'b': 2, 'c': 3, 'd': 4000}\n"
     ]
    }
   ],
   "source": [
    "# 3. Write a python program to update a value in a dictionary with a specified value.\n",
    "print(f\"Original Dictionary:\\n {dict1}\") \n",
    "\n",
    "def update_value_by_value(dict, value, new_value):\n",
    "    if value not in dict.values():\n",
    "        print(\"Value dose not exist: \")\n",
    "    keyAssociated = \"\"\n",
    "    for k, v in dict.items():\n",
    "        if v == value:\n",
    "            keyAssociated = k\n",
    "    dict[keyAssociated] = new_value\n",
    "\n",
    "update_value_by_value(dict1, 444, 4000)\n",
    "\n",
    "print(f\"Dictionary after update:\\n {dict1}\")\n"
   ]
  },
  {
   "cell_type": "code",
   "execution_count": 5,
   "metadata": {},
   "outputs": [
    {
     "name": "stdout",
     "output_type": "stream",
     "text": [
      "You entered: Deep\n",
      "You entered: Preet\n",
      "You entered: Dhanvi\n",
      "You entered nothing.\n",
      "List of customers: ['Deep', 'Preet', 'Dhanvi']\n",
      "\n",
      "Enter shopping items for Deep:\n",
      "You entered: Bag\n",
      "You entered: Book\n",
      "You entered: Pen\n",
      "You entered nothing.\n",
      "\n",
      "\n",
      "Enter shopping items for Preet:\n",
      "You entered: Ungh\n",
      "You entered: Paisa\n",
      "You entered nothing.\n",
      "\n",
      "\n",
      "Enter shopping items for Dhanvi:\n",
      "You entered: Apple\n",
      "You entered: Mobile\n",
      "You entered nothing.\n",
      "\n",
      "\n",
      "{'Deep': ['Bag', 'Book', 'Pen'], 'Preet': ['Ungh', 'Paisa'], 'Dhanvi': ['Apple', 'Mobile']}\n"
     ]
    }
   ],
   "source": [
    "# 4. Write a python program to generate a dictionary from two lists\n",
    "    # Lst1 = [‘Bhaskar’, ’Vishal’, ‘Dhara’]\n",
    "    # Lst2 = [[‘apple’,’orange’], [‘banana’,’weat floor’], [‘butter milk’,’apple juice’]]\n",
    "        # Receive this two lists from user\n",
    "        # And create one dictionary like below.\n",
    "            # {Bhaskar’: [‘apple’,’orange’], ‘Vishal’: [‘banana’,’weat floor’], ‘Dhara’: [‘butter milk’,’apple juice’]}\n",
    "\n",
    "customers = []\n",
    "items =[]\n",
    "\n",
    "def enter_customer(list):\n",
    "    while True:\n",
    "        value = input(\"Enter customer name: \")\n",
    "        if not value:\n",
    "            print(\"You entered nothing.\")\n",
    "            break\n",
    "        print(f\"You entered: {value}\")\n",
    "        list.append(value)\n",
    "    print(f\"List of customers: {list}\\n\")\n",
    "\n",
    "def enter_item(list):\n",
    "    while True:\n",
    "        value = input(\"Enter shopping item: \")\n",
    "        if not value:\n",
    "            print(\"You entered nothing.\")\n",
    "            break\n",
    "        print(f\"You entered: {value}\")\n",
    "        list.append(value)\n",
    "    \n",
    "enter_customer(customers)\n",
    "for customer in customers:\n",
    "    print(f\"Enter shopping items for {customer}:\")\n",
    "    item_list = []\n",
    "    enter_item(item_list)\n",
    "    items.append(item_list)\n",
    "    print(\"\\n\")\n",
    "\n",
    "dict02 = {}\n",
    "for i in range(len(customers)):\n",
    "    dict02[customers[i]] = items[i]\n",
    "\n",
    "print(dict02)\n"
   ]
  },
  {
   "cell_type": "code",
   "execution_count": 6,
   "metadata": {},
   "outputs": [
    {
     "name": "stdout",
     "output_type": "stream",
     "text": [
      "Employee details: {'name': 'Deep', 'mobile': 1234567899, 'city': 'Ahmedabad', 'email': 'deep@mymail.in'}\n"
     ]
    }
   ],
   "source": [
    "# 5. Write a python program to manage employee detail in dictionary.\n",
    "    # Example: {‘name’: ‘Bhaskar’, ‘mobile’: 9876543210, ‘city’: ‘Gandhinagar’, ‘email’: ‘bhaskar@mail.local’}\n",
    "\n",
    "employee = {}\n",
    "employee['name'] = input(\"Enter employee name: \")\n",
    "employee['mobile'] = int(input(\"Enter mobile number: \"))\n",
    "employee['city'] = input(\"Enter your city: \")\n",
    "employee['email'] = input(\"Enter your email\")\n",
    "\n",
    "print(f\"Employee details: {employee}\")\n"
   ]
  },
  {
   "cell_type": "code",
   "execution_count": 8,
   "metadata": {},
   "outputs": [
    {
     "name": "stdout",
     "output_type": "stream",
     "text": [
      "Current pricelist: {'Bag': '750'}\n",
      "Current pricelist: {'Bag': '750', 'Shoes': '1000'}\n",
      "Current pricelist: {'Bag': '750', 'Shoes': '1000', 'Bottle': '50'}\n",
      "Current pricelist: {'Bag': '650', 'Shoes': '1000', 'Bottle': '50'}\n",
      "You entered nothing.\n",
      "\n",
      "Product and its price:\n",
      "{'Bag': '650', 'Shoes': '1000', 'Bottle': '50'}\n"
     ]
    }
   ],
   "source": [
    "# 6. Write a python program to manage product’s pricelist.\n",
    "    # Keep asking for key until the user enters nothing.\n",
    "    # Enter product(key) and its price(value)\n",
    "    # Entering key that is already added it should update the value with available key value pair.\n",
    "    # Print the dictionary in tabular format\n",
    "\n",
    "pricelist = {}\n",
    "def make_dict(dict):\n",
    "    while True:\n",
    "        product = input(\"Enter product: \")\n",
    "        if not product:\n",
    "            print(\"You entered nothing.\")\n",
    "            break\n",
    "        price = input(f\"Enter price for {product}: \")\n",
    "        dict[product] = price\n",
    "        print(f\"Current pricelist: {dict}\")\n",
    "    print(f\"\\nProduct and its price:\\n{dict}\")\n",
    "\n",
    "\n",
    "make_dict(pricelist)"
   ]
  },
  {
   "cell_type": "code",
   "execution_count": 9,
   "metadata": {},
   "outputs": [
    {
     "name": "stdout",
     "output_type": "stream",
     "text": [
      "You entered nothing.\n",
      "\n",
      "Dictonary\n",
      "{'1': 'a', '2': 'b', '3': 'c', '4': 'd'}\n",
      "You entered nothing.\n",
      "\n",
      "Dictonary\n",
      "{'1': 'k', '7': 't', '8': 'o', '9p': 'p'}\n",
      "Merged Dictionary: {'1': 'k', '2': 'b', '3': 'c', '4': 'd', '7': 't', '8': 'o', '9p': 'p'}\n"
     ]
    }
   ],
   "source": [
    "# 7. Write a python program to merge two dictionaries.\n",
    "    # Receive key and value input from user do that for 2 dictionaries.\n",
    "def make_dict(dict):\n",
    "    while True:\n",
    "        key = input(\"Enter Key: \")\n",
    "        if not key:\n",
    "            print(\"You entered nothing.\\n\")\n",
    "            break\n",
    "        value = input(f\"Enter value for {key}: \")\n",
    "        dict[key] = value\n",
    "    print(f\"Dictonary\\n{dict}\")\n",
    "\n",
    "dict001 = {}\n",
    "dict002 = {}\n",
    "make_dict(dict001)\n",
    "make_dict(dict002)\n",
    "\n",
    "dict001.update(dict002)\n",
    "print(f\"Merged Dictionary: {dict001}\")"
   ]
  },
  {
   "cell_type": "code",
   "execution_count": null,
   "metadata": {},
   "outputs": [],
   "source": []
  }
 ],
 "metadata": {
  "kernelspec": {
   "display_name": "Python 3",
   "language": "python",
   "name": "python3"
  },
  "language_info": {
   "codemirror_mode": {
    "name": "ipython",
    "version": 3
   },
   "file_extension": ".py",
   "mimetype": "text/x-python",
   "name": "python",
   "nbconvert_exporter": "python",
   "pygments_lexer": "ipython3",
   "version": "3.8.10"
  }
 },
 "nbformat": 4,
 "nbformat_minor": 2
}
