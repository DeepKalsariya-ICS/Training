{
 "cells": [
  {
   "cell_type": "code",
   "execution_count": 38,
   "metadata": {},
   "outputs": [
    {
     "name": "stdout",
     "output_type": "stream",
     "text": [
      "Type of set1: <class 'set'>\n",
      "set1: {1, 4, 5, 7, 'python'}\n"
     ]
    }
   ],
   "source": [
    "# Create set\n",
    "set1 = {1,1,1,4,4,5,7,1,5,'python', True}\n",
    "print(f\"Type of set1: {type(set1)}\")\n",
    "print(f\"set1: {set1}\")"
   ]
  },
  {
   "cell_type": "code",
   "execution_count": 39,
   "metadata": {},
   "outputs": [
    {
     "name": "stdout",
     "output_type": "stream",
     "text": [
      "set1: {1, 4, 5, 7, 111, 'python'}\n"
     ]
    }
   ],
   "source": [
    "# set.add()\n",
    "# to add single element\n",
    "set1.add(111)\n",
    "print(f\"set1: {set1}\")"
   ]
  },
  {
   "cell_type": "code",
   "execution_count": 40,
   "metadata": {},
   "outputs": [
    {
     "name": "stdout",
     "output_type": "stream",
     "text": [
      "set1: {1, 4, 5, 7, 111, 'python'}\n",
      "set2: {1, 4, 5, 'python', 7, 111}\n"
     ]
    }
   ],
   "source": [
    "# set.copy()\n",
    "set2 = set1.copy()\n",
    "print(f\"set1: {set1}\")\n",
    "print(f\"set2: {set2}\")"
   ]
  },
  {
   "cell_type": "code",
   "execution_count": 41,
   "metadata": {},
   "outputs": [
    {
     "name": "stdout",
     "output_type": "stream",
     "text": [
      "set1:  {1, 4, 5, 7, 1000, 427, 333, 111, 'program', 'python'}\n",
      "set2:  {1, 4, 5, 'python', 7, 888, 111}\n"
     ]
    }
   ],
   "source": [
    "# set.update()\n",
    "# Add multiple elements\n",
    "lst = [333, 'program', 427]\n",
    "set1.update(lst) \n",
    "\n",
    "set2.add(888)\n",
    "set1.add(1000)\n",
    "print(f\"set1:  {set1}\")\n",
    "print(f\"set2:  {set2}\")"
   ]
  },
  {
   "cell_type": "code",
   "execution_count": 42,
   "metadata": {},
   "outputs": [
    {
     "data": {
      "text/plain": [
       "{1000, 333, 427, 'program'}"
      ]
     },
     "execution_count": 42,
     "metadata": {},
     "output_type": "execute_result"
    }
   ],
   "source": [
    "# set1.difference(set2)\n",
    "# returns item that is present in set1 but not in set 2\n",
    "set1.difference(set2)"
   ]
  },
  {
   "cell_type": "code",
   "execution_count": 43,
   "metadata": {},
   "outputs": [
    {
     "data": {
      "text/plain": [
       "{1000, 333, 427, 888, 'program'}"
      ]
     },
     "execution_count": 43,
     "metadata": {},
     "output_type": "execute_result"
    }
   ],
   "source": [
    "# set1.symmetric_difference(set2)\n",
    "# returns element present in only one set\n",
    "set1.symmetric_difference(set2)"
   ]
  },
  {
   "cell_type": "code",
   "execution_count": 44,
   "metadata": {},
   "outputs": [
    {
     "data": {
      "text/plain": [
       "{1, 111, 4, 5, 7, 'python'}"
      ]
     },
     "execution_count": 44,
     "metadata": {},
     "output_type": "execute_result"
    }
   ],
   "source": [
    "# set.intersection(set)\n",
    "# returns element present in both sets\n",
    "set2.intersection(set1)"
   ]
  },
  {
   "cell_type": "code",
   "execution_count": 45,
   "metadata": {},
   "outputs": [
    {
     "data": {
      "text/plain": [
       "False"
      ]
     },
     "execution_count": 45,
     "metadata": {},
     "output_type": "execute_result"
    }
   ],
   "source": [
    "# set2.issubset(set1)\n",
    "# checks if set2 is subset of set1 or not \n",
    "set2.issubset(set1)"
   ]
  },
  {
   "cell_type": "code",
   "execution_count": 46,
   "metadata": {},
   "outputs": [
    {
     "data": {
      "text/plain": [
       "False"
      ]
     },
     "execution_count": 46,
     "metadata": {},
     "output_type": "execute_result"
    }
   ],
   "source": [
    "# set2.issuperset(set1)\n",
    "# checks if set2 is superset of set1 or not \n",
    "set2.issuperset(set1)"
   ]
  },
  {
   "cell_type": "code",
   "execution_count": 47,
   "metadata": {},
   "outputs": [
    {
     "name": "stdout",
     "output_type": "stream",
     "text": [
      "set1:  {1, 5, 7, 1000, 427, 333, 111, 'program', 'python'}\n",
      "set2:  {1, 4, 5, 'python', 7, 888, 111}\n"
     ]
    }
   ],
   "source": [
    "# set.discard(x)\n",
    "set1.discard(4)\n",
    "print(f\"set1:  {set1}\")\n",
    "print(f\"set2:  {set2}\")"
   ]
  },
  {
   "cell_type": "code",
   "execution_count": null,
   "metadata": {},
   "outputs": [],
   "source": []
  },
  {
   "cell_type": "code",
   "execution_count": null,
   "metadata": {},
   "outputs": [],
   "source": []
  }
 ],
 "metadata": {
  "kernelspec": {
   "display_name": "Python 3",
   "language": "python",
   "name": "python3"
  },
  "language_info": {
   "codemirror_mode": {
    "name": "ipython",
    "version": 3
   },
   "file_extension": ".py",
   "mimetype": "text/x-python",
   "name": "python",
   "nbconvert_exporter": "python",
   "pygments_lexer": "ipython3",
   "version": "3.8.10"
  }
 },
 "nbformat": 4,
 "nbformat_minor": 2
}
