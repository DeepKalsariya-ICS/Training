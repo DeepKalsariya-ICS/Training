{
 "cells": [
  {
   "cell_type": "code",
   "execution_count": 35,
   "metadata": {},
   "outputs": [],
   "source": [
    "# 0. Find out multiple ways of determining variable data type like integer, string or list.\n",
    "# 1. Write a Python program to sum all the items in a list.\n",
    "# 2. Write a Python program to multiply all the items in a list.\n",
    "# 3. Write a python program to find the second maximum number from a list of numbers.\n",
    "# 4. Write a python program to add integer values into a list.\n",
    "#     Add value at the beginning of the list if the value is odd.\n",
    "#     Add value at the end of the list if the value is even.\n",
    "# 5. Write a python program to find and count how many times value is repeated in the list.\n",
    "#     - lst = [1,2,3,4,5,4,3,5,3,1,3,5,7,6,3,2,1,5,7,6,6]\n",
    "#     Result :\n",
    "#     - result = [(1,3),(2,2),(3,5),(4,2),(5,4),(7,2),(6,3)]\n",
    "# 6. Write a python program to filter out the list of numbers that are odd and even\n",
    "#     - lst = [1,2,3,4,5,6,7,8,9]\n",
    "#     Result :\n",
    "#     - odd_numbers = [1,3,5,7,9]print(f\"Main Input:- {main_input}, Input1:- {input1}, Input2:- {input2}\")\n",
    "#     - even_numbers = [2,4,6,8]\n",
    "# 7. Write a python program to determine if the switch is on or off,\n",
    "#     - use the given truth table for checking values and showing results.\n",
    "# --------------------------------------------\n",
    "# main_input    input1    input2    result\n",
    "# --------------------------------------------\n",
    "# 0           \t0            0           0\n",
    "# 0           \t0            1           0\n",
    "# 0           \t1            0           0\n",
    "# 0           \t1            1           0\n",
    "# 1           \t0            0           0\n",
    "# 1           \t0            1           1\n",
    "# 1           \t1            0           1\n",
    "# 1           \t1            1           1\n"
   ]
  },
  {
   "cell_type": "code",
   "execution_count": 36,
   "metadata": {},
   "outputs": [
    {
     "name": "stdout",
     "output_type": "stream",
     "text": [
      "Type of v_int:  <class 'int'>\n",
      "Type of v_list:  <class 'list'>\n",
      "Type of v_str:  <class 'str'>\n"
     ]
    }
   ],
   "source": [
    "# 0. Find out multiple ways of determining variable data type like integer, string or list.\n",
    "# i> using type() function\n",
    "v_int = 11\n",
    "v_list = [2, 4, 6, 8, 11]\n",
    "v_str = \"Hello World!\"\n",
    "print(f\"Type of v_int:  {type(v_int)}\")\n",
    "print(f\"Type of v_list:  {type(v_list)}\")\n",
    "print(f\"Type of v_str:  {type(v_str)}\")"
   ]
  },
  {
   "cell_type": "code",
   "execution_count": 37,
   "metadata": {},
   "outputs": [
    {
     "name": "stdout",
     "output_type": "stream",
     "text": [
      "Help on built-in function isinstance in module builtins:\n",
      "\n",
      "isinstance(obj, class_or_tuple, /)\n",
      "    Return whether an object is an instance of a class or of a subclass thereof.\n",
      "    \n",
      "    A tuple, as in ``isinstance(x, (A, B, ...))``, may be given as the target to\n",
      "    check against. This is equivalent to ``isinstance(x, A) or isinstance(x, B)\n",
      "    or ...`` etc.\n",
      "\n"
     ]
    }
   ],
   "source": [
    "help(isinstance)"
   ]
  },
  {
   "cell_type": "code",
   "execution_count": 38,
   "metadata": {},
   "outputs": [
    {
     "name": "stdout",
     "output_type": "stream",
     "text": [
      "Is v_int instance of int:  True\n",
      "Is v_int instance of list:  False\n"
     ]
    }
   ],
   "source": [
    "# ii> Using isinstance() \n",
    "print(f\"Is v_int instance of int:  {isinstance(v_int, int)}\")\n",
    "print(f\"Is v_int instance of list:  {isinstance(v_int, list)}\")"
   ]
  },
  {
   "cell_type": "code",
   "execution_count": 39,
   "metadata": {},
   "outputs": [
    {
     "name": "stdout",
     "output_type": "stream",
     "text": [
      "Class of v_int:  <class 'int'>\n"
     ]
    }
   ],
   "source": [
    "# iii> Using __class__\n",
    "print(f\"Class of v_int:  {v_int.__class__}\")"
   ]
  },
  {
   "cell_type": "code",
   "execution_count": 40,
   "metadata": {},
   "outputs": [
    {
     "name": "stdout",
     "output_type": "stream",
     "text": [
      "List: [0, 13, 26, 39, 52, 65, 78, 91]\n",
      "Sum of all elements of list: 364\n"
     ]
    }
   ],
   "source": [
    "# 1. Write a Python program to sum all the items in a list.\n",
    "def sum_list(lst):\n",
    "    sum = 0\n",
    "    for i in lst:\n",
    "        sum += i\n",
    "    print(f\"Sum of all elements of list: {sum}\")\n",
    "\n",
    "list1 = [i for i in range(100) if i%13 == 0]\n",
    "print(f\"List: {list1}\")\n",
    "sum_list(list1)\n"
   ]
  },
  {
   "cell_type": "code",
   "execution_count": 41,
   "metadata": {},
   "outputs": [
    {
     "name": "stdout",
     "output_type": "stream",
     "text": [
      "List: [35, 70]\n",
      "Multiplication of all elements of list: 2450\n"
     ]
    }
   ],
   "source": [
    "# 2. Write a Python program to multiply all the items in a list.\n",
    "def mul_list(lst):\n",
    "    mul = 1\n",
    "    for i in lst:\n",
    "        mul *= i\n",
    "    print(f\"Multiplication of all elements of list: {mul}\")\n",
    "\n",
    "list2 = [i for i in range(1, 100) if i%5 == 0 and i%7 == 0]\n",
    "print(f\"List: {list2}\")\n",
    "mul_list(list2)"
   ]
  },
  {
   "cell_type": "code",
   "execution_count": 42,
   "metadata": {},
   "outputs": [
    {
     "name": "stdout",
     "output_type": "stream",
     "text": [
      "List: [3, 7, 5, 1, 11, 13, 9, 0]\n",
      "Second maximum element of list is: 11\n"
     ]
    }
   ],
   "source": [
    "# 3. Write a python program to find the second maximum number from a list of numbers.\n",
    "def second_max(lst):\n",
    "    lst.sort(reverse = True)\n",
    "    print(f\"Second maximum element of list is: {lst[1]}\")\n",
    "\n",
    "list3 = [3, 7, 5, 1, 11, 13, 9, 0]\n",
    "print(f\"List: {list3}\")\n",
    "second_max(list3)"
   ]
  },
  {
   "cell_type": "code",
   "execution_count": 43,
   "metadata": {},
   "outputs": [
    {
     "name": "stdout",
     "output_type": "stream",
     "text": [
      "List after adding value: [7, 13, 11, 9, 7, 5, 3, 1, 0]\n",
      "List after adding value: [7, 13, 11, 9, 7, 5, 3, 1, 0, 8]\n"
     ]
    }
   ],
   "source": [
    "# 4. Write a python program to add integer values into a list.\n",
    "#     Add value at the beginning of the list if the value is odd.\n",
    "#     Add value at the end of the list if the value is even.\n",
    "\n",
    "def add_into_list(lst, value):\n",
    "    if value%2 == 0:\n",
    "        lst.append(value)\n",
    "    else:\n",
    "        lst.insert(0, value)\n",
    "    print(f\"List after adding value: {lst}\")\n",
    "\n",
    "add_into_list(list3, 7)\n",
    "add_into_list(list3, 8)\n"
   ]
  },
  {
   "cell_type": "code",
   "execution_count": 44,
   "metadata": {},
   "outputs": [
    {
     "name": "stdout",
     "output_type": "stream",
     "text": [
      "{1: 3, 2: 2, 3: 5, 4: 2, 5: 4, 7: 2, 6: 3}\n"
     ]
    }
   ],
   "source": [
    "# 5. Write a python program to find and count how many times value is repeated in the list.\n",
    "#     - lst = [1,2,3,4,5,4,3,5,3,1,3,5,7,6,3,2,1,5,7,6,6]\n",
    "#     Result :\n",
    "#     - result = [(1,3),(2,2),(3,5),(4,2),(5,4),(7,2),(6,3)]\n",
    "\n",
    "lst = [1,2,3,4,5,4,3,5,3,1,3,5,7,6,3,2,1,5,7,6,6]\n",
    "\n",
    "def count_elements(lst):\n",
    "    count_dict = {}\n",
    "    for i in lst:\n",
    "        if i in count_dict:\n",
    "            count_dict[i] += 1\n",
    "        else: \n",
    "            count_dict[i] = 1\n",
    "    print(count_dict)\n",
    "\n",
    "count_elements(lst)\n",
    "\n"
   ]
  },
  {
   "cell_type": "code",
   "execution_count": 45,
   "metadata": {},
   "outputs": [
    {
     "name": "stdout",
     "output_type": "stream",
     "text": [
      "Odd Numbers: [1, 3, 5, 7, 9]\n",
      "Even Numbers: [2, 4, 6, 8]\n"
     ]
    }
   ],
   "source": [
    "# 6. Write a python program to filter out the list of numbers that are odd and even\n",
    "#     - lst = [1,2,3,4,5,6,7,8,9]\n",
    "#     Result :\n",
    "#     - odd_numbers = [1,3,5,7,9]\n",
    "#     - even_numbers = [2,4,6,8]\n",
    "\n",
    "def odd_or_even(lst):\n",
    "    odd_nums = []\n",
    "    even_nums = []\n",
    "    for num in lst:\n",
    "        if num % 2 == 0:\n",
    "            even_nums.append(num)\n",
    "        else:\n",
    "            odd_nums.append(num)\n",
    "    print(f\"Odd Numbers: {odd_nums}\")\n",
    "    print(f\"Even Numbers: {even_nums}\")\n",
    "\n",
    "lst = [1,2,3,4,5,6,7,8,9]\n",
    "odd_or_even(lst)"
   ]
  },
  {
   "cell_type": "code",
   "execution_count": 47,
   "metadata": {},
   "outputs": [
    {
     "name": "stdout",
     "output_type": "stream",
     "text": [
      "Main Input:- 1, Input1:- 0, Input2:- 1\n",
      "Switch is ON!!\n"
     ]
    }
   ],
   "source": [
    "# 7. Write a python program to determine if the switch is on or off,\n",
    "#     - use the given truth table for checking values and showing results.\n",
    "# --------------------------------------------\n",
    "# main_input    input1    input2    result\n",
    "# --------------------------------------------\n",
    "# 0           \t0            0           0\n",
    "# 0           \t0            1           0\n",
    "# 0           \t1            0           0\n",
    "# 0           \t1            1           0\n",
    "# 1           \t0            0           0\n",
    "# 1           \t0            1           1\n",
    "# 1           \t1            0           1\n",
    "# 1           \t1            1           1\n",
    "\n",
    "\n",
    "main_input = int(input(\"Enter main input: \"))\n",
    "input1 = int(input(\"Enter main input1: \"))\n",
    "input2 = int(input(\"Enter main input2: \"))\n",
    "\n",
    "if main_input:\n",
    "    if input1 or input2:\n",
    "        print(f\"Main Input:- {main_input}, Input1:- {input1}, Input2:- {input2}\")\n",
    "        print(\"Switch is ON!!\")\n",
    "else: \n",
    "    print(f\"Main Input:- {main_input}, Input1:- {input1}, Input2:- {input2}\")\n",
    "    print(\"Switch is OFF!!\")\n",
    "\n",
    "\n"
   ]
  },
  {
   "cell_type": "code",
   "execution_count": null,
   "metadata": {},
   "outputs": [],
   "source": []
  },
  {
   "cell_type": "code",
   "execution_count": null,
   "metadata": {},
   "outputs": [],
   "source": []
  },
  {
   "cell_type": "code",
   "execution_count": null,
   "metadata": {},
   "outputs": [],
   "source": []
  }
 ],
 "metadata": {
  "kernelspec": {
   "display_name": "Python 3",
   "language": "python",
   "name": "python3"
  },
  "language_info": {
   "codemirror_mode": {
    "name": "ipython",
    "version": 3
   },
   "file_extension": ".py",
   "mimetype": "text/x-python",
   "name": "python",
   "nbconvert_exporter": "python",
   "pygments_lexer": "ipython3",
   "version": "3.8.10"
  }
 },
 "nbformat": 4,
 "nbformat_minor": 2
}
