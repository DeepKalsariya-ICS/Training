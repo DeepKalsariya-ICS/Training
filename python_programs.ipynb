{
 "cells": [
  {
   "cell_type": "code",
   "execution_count": 1,
   "metadata": {},
   "outputs": [],
   "source": [
    "# Python Program to Add Two Numbers\n",
    "# Python Program to Find the Square Root\n",
    "# Python Program to Convert Kilometers to Miles\n",
    "# Python Program to Convert Celsius To Fahrenheit\n",
    "# Python Program to Check if a Number is Odd or Even\n",
    "# Python Program to Find the Largest Among Three Numbers\n",
    "# Python Program to Check Prime Number\n",
    "# Python Program to Print the Fibonacci sequence"
   ]
  },
  {
   "cell_type": "code",
   "execution_count": 2,
   "metadata": {},
   "outputs": [],
   "source": [
    "# Function to add two umbers\n",
    "def addTwoNum(n1, n2):\n",
    "    print(f\"{n1} + {n2} = {n1 + n2}\")\n"
   ]
  },
  {
   "cell_type": "code",
   "execution_count": 3,
   "metadata": {},
   "outputs": [
    {
     "name": "stdout",
     "output_type": "stream",
     "text": [
      "4 + 5 = 9\n"
     ]
    }
   ],
   "source": [
    "addTwoNum(4, 5)"
   ]
  },
  {
   "cell_type": "code",
   "execution_count": 14,
   "metadata": {},
   "outputs": [],
   "source": [
    "# Function to Find the Square Root\n",
    "def squareRoot(num):\n",
    "    print(f\"Square Root of {num} is {num**(1/2)}\")"
   ]
  },
  {
   "cell_type": "code",
   "execution_count": 15,
   "metadata": {},
   "outputs": [
    {
     "name": "stdout",
     "output_type": "stream",
     "text": [
      "Square Root of 625 is 25.0\n"
     ]
    }
   ],
   "source": [
    "squareRoot(625)"
   ]
  },
  {
   "cell_type": "code",
   "execution_count": 20,
   "metadata": {},
   "outputs": [],
   "source": [
    "# Function to Convert Kilometers to Miles\n",
    "def k2m(kms):\n",
    "    print(f\"{kms} Kilometers = {kms * 0.62137} Miles\")"
   ]
  },
  {
   "cell_type": "code",
   "execution_count": 21,
   "metadata": {},
   "outputs": [
    {
     "name": "stdout",
     "output_type": "stream",
     "text": [
      "7 Kilometers = 4.34959 Miles\n",
      "193 Kilometers = 119.92441 Miles\n"
     ]
    }
   ],
   "source": [
    "k2m(7)\n",
    "k2m(193)"
   ]
  },
  {
   "cell_type": "code",
   "execution_count": 16,
   "metadata": {},
   "outputs": [],
   "source": [
    "# Function to Convert Celsius To Fahrenheit\n",
    "def c2f(celcious):\n",
    "    print(f\"{celcious} Celcios = {celcious * 9/5 + 32} Fahrenheit\")"
   ]
  },
  {
   "cell_type": "code",
   "execution_count": 18,
   "metadata": {},
   "outputs": [
    {
     "name": "stdout",
     "output_type": "stream",
     "text": [
      "0 Celcios = 32.0 Fahrenheit\n",
      "71 Celcios = 159.8 Fahrenheit\n"
     ]
    }
   ],
   "source": [
    "c2f(0)\n",
    "c2f(71)"
   ]
  },
  {
   "cell_type": "code",
   "execution_count": 22,
   "metadata": {},
   "outputs": [],
   "source": [
    "# Function to Check if a Number is Odd or Even\n",
    "def evenOrOdd(num):\n",
    "    if(num % 2 == 0):\n",
    "        print(f\"{num} is Even\")\n",
    "    else:\n",
    "        print(f\"{num} is Odd\")"
   ]
  },
  {
   "cell_type": "code",
   "execution_count": 23,
   "metadata": {},
   "outputs": [
    {
     "name": "stdout",
     "output_type": "stream",
     "text": [
      "3171 is Odd\n",
      "242422 is Even\n"
     ]
    }
   ],
   "source": [
    "evenOrOdd(3171)\n",
    "evenOrOdd(242422)"
   ]
  },
  {
   "cell_type": "code",
   "execution_count": 30,
   "metadata": {},
   "outputs": [],
   "source": [
    "# Function to Find the Largest Among Three Numbers\n",
    "def findLarge(n1, n2, n3):\n",
    "    if(n1>n2 and n1>n3):\n",
    "        print(f\"{n1} is Largest\")\n",
    "    elif(n2>n1 and n2>n3):\n",
    "        print(f\"{n2} is Largest\")\n",
    "    else:\n",
    "        print(f\"{n3} is Largest\")"
   ]
  },
  {
   "cell_type": "code",
   "execution_count": 33,
   "metadata": {},
   "outputs": [
    {
     "name": "stdout",
     "output_type": "stream",
     "text": [
      "5 is Largest\n",
      "51 is Largest\n",
      "515 is Largest\n"
     ]
    }
   ],
   "source": [
    "findLarge(5,3,1)\n",
    "findLarge(15, 33, 51)\n",
    "findLarge(41, 515, 75)"
   ]
  },
  {
   "cell_type": "code",
   "execution_count": 36,
   "metadata": {},
   "outputs": [],
   "source": [
    "# Function to Check Prime Number\n",
    "def isPrime(num):\n",
    "    for i in range(2, num):\n",
    "        if(num%i == 0):\n",
    "            print(f\"{num} is not Prime Number\")\n",
    "            break\n",
    "        if(i == num -1):\n",
    "            print(f\"{num} is Prime Number\")"
   ]
  },
  {
   "cell_type": "code",
   "execution_count": 55,
   "metadata": {},
   "outputs": [
    {
     "name": "stdout",
     "output_type": "stream",
     "text": [
      "5000 is not Prime Number\n",
      "97 is Prime Number\n"
     ]
    }
   ],
   "source": [
    "isPrime(5000)\n",
    "isPrime(97)"
   ]
  },
  {
   "cell_type": "code",
   "execution_count": 75,
   "metadata": {},
   "outputs": [],
   "source": [
    "# Function to Print the Fibonacci Sequence\n",
    "def fibonacci(num):\n",
    "    print(f\"First {num} numbers of fibonacci sequence\")\n",
    "    cnt = 0\n",
    "    t1 = 1\n",
    "    t2 = 1\n",
    "    fb = 1\n",
    "    while(cnt < num):\n",
    "        t2 = t1\n",
    "        t1 = fb\n",
    "        print(fb, end=\" \")\n",
    "        fb += t2\n",
    "        cnt += 1\n"
   ]
  },
  {
   "cell_type": "code",
   "execution_count": 76,
   "metadata": {},
   "outputs": [
    {
     "name": "stdout",
     "output_type": "stream",
     "text": [
      "First 15 numbers of fibonacci sequence\n",
      "1 2 3 5 8 13 21 34 55 89 144 233 377 610 987 "
     ]
    }
   ],
   "source": [
    "fibonacci(15)"
   ]
  },
  {
   "cell_type": "code",
   "execution_count": null,
   "metadata": {},
   "outputs": [],
   "source": []
  }
 ],
 "metadata": {
  "kernelspec": {
   "display_name": "Python 3",
   "language": "python",
   "name": "python3"
  },
  "language_info": {
   "codemirror_mode": {
    "name": "ipython",
    "version": 3
   },
   "file_extension": ".py",
   "mimetype": "text/x-python",
   "name": "python",
   "nbconvert_exporter": "python",
   "pygments_lexer": "ipython3",
   "version": "3.8.10"
  }
 },
 "nbformat": 4,
 "nbformat_minor": 2
}
