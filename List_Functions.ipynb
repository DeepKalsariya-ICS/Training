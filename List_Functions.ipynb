{
 "cells": [
  {
   "cell_type": "code",
   "execution_count": 51,
   "metadata": {},
   "outputs": [
    {
     "name": "stdout",
     "output_type": "stream",
     "text": [
      "lst: [11, 2, 5, 4, 3]\n"
     ]
    }
   ],
   "source": [
    "# Creating a List\n",
    "lst = [11, 2, 5, 4, 3]\n",
    "print(f\"lst: {lst}\")"
   ]
  },
  {
   "cell_type": "code",
   "execution_count": 52,
   "metadata": {},
   "outputs": [
    {
     "name": "stdout",
     "output_type": "stream",
     "text": [
      "lst: [11, 2, 5, 4, 3, 7]\n"
     ]
    }
   ],
   "source": [
    "# list.append(x)\n",
    "# add element x at last of list\n",
    "lst.append(7)\n",
    "print(f\"lst: {lst}\")"
   ]
  },
  {
   "cell_type": "code",
   "execution_count": 53,
   "metadata": {},
   "outputs": [
    {
     "name": "stdout",
     "output_type": "stream",
     "text": [
      "lst: [11, 2, 5, 4, 3, 7]\n",
      "lst1: [11, 2, 5, 4, 3, 7]\n"
     ]
    }
   ],
   "source": [
    "# list.copy()\n",
    "# create a copy of list\n",
    "lst1 = lst.copy()\n",
    "print(f\"lst: {lst}\")\n",
    "print(f\"lst1: {lst1}\")"
   ]
  },
  {
   "cell_type": "code",
   "execution_count": 54,
   "metadata": {},
   "outputs": [
    {
     "name": "stdout",
     "output_type": "stream",
     "text": [
      "lst: []\n",
      "lst1: [11, 2, 5, 4, 3, 7]\n"
     ]
    }
   ],
   "source": [
    "# list.clear()\n",
    "# clear all elements of list\n",
    "lst.clear()\n",
    "print(f\"lst: {lst}\")\n",
    "print(f\"lst1: {lst1}\")"
   ]
  },
  {
   "cell_type": "code",
   "execution_count": 55,
   "metadata": {},
   "outputs": [
    {
     "name": "stdout",
     "output_type": "stream",
     "text": [
      "Count of 1 in lst1: 1\n",
      "Count of 1 in lst: 0\n"
     ]
    }
   ],
   "source": [
    "# list.count(x)\n",
    "# count occurance of element x in list\n",
    "print(f\"Count of 1 in lst1: {lst1.count(2)}\")\n",
    "print(f\"Count of 1 in lst: {lst.count(2)}\")"
   ]
  },
  {
   "cell_type": "code",
   "execution_count": 56,
   "metadata": {},
   "outputs": [
    {
     "name": "stdout",
     "output_type": "stream",
     "text": [
      "lst: [11, 2, 5, 4, 3, 7]\n",
      "lst1: [11, 2, 5, 4, 3, 7]\n"
     ]
    }
   ],
   "source": [
    "# list1.extend(list2)\n",
    "# add list2 in list1\n",
    "lst.extend(lst1)\n",
    "print(f\"lst: {lst}\")\n",
    "print(f\"lst1: {lst1}\")"
   ]
  },
  {
   "cell_type": "code",
   "execution_count": 58,
   "metadata": {},
   "outputs": [
    {
     "name": "stdout",
     "output_type": "stream",
     "text": [
      "Index of 7 in lst: 5\n"
     ]
    }
   ],
   "source": [
    "# list.index(x)\n",
    "# Find index of element x in list\n",
    "print(f\"Index of 7 in lst: {lst.index(7)}\")"
   ]
  },
  {
   "cell_type": "code",
   "execution_count": 59,
   "metadata": {},
   "outputs": [
    {
     "name": "stdout",
     "output_type": "stream",
     "text": [
      "lst: [11, 2, 5, 4, 3, 7]\n",
      "lst1: [11, 2, 5, 17, 4, 3, 7]\n"
     ]
    }
   ],
   "source": [
    "# list.insert(i, value)\n",
    "# insert value at i-th index in list\n",
    "lst1.insert(3, 17)\n",
    "print(f\"lst: {lst}\")\n",
    "print(f\"lst1: {lst1}\")"
   ]
  },
  {
   "cell_type": "code",
   "execution_count": 60,
   "metadata": {},
   "outputs": [
    {
     "name": "stdout",
     "output_type": "stream",
     "text": [
      "lst: [11, 2, 5, 4, 3]\n",
      "lst1: [11, 2, 5, 17, 4, 3, 7]\n"
     ]
    }
   ],
   "source": [
    "# list.pop()\n",
    "# removes last element of list\n",
    "lst.pop()\n",
    "print(f\"lst: {lst}\")\n",
    "print(f\"lst1: {lst1}\")"
   ]
  },
  {
   "cell_type": "code",
   "execution_count": 61,
   "metadata": {},
   "outputs": [
    {
     "name": "stdout",
     "output_type": "stream",
     "text": [
      "lst: [11, 2, 5, 4, 3]\n",
      "lst1: [11, 2, 5, 17, 3, 7]\n"
     ]
    }
   ],
   "source": [
    "# list.remove(x)\n",
    "# removes element x from list\n",
    "lst1.remove(4)\n",
    "print(f\"lst: {lst}\")\n",
    "print(f\"lst1: {lst1}\")"
   ]
  },
  {
   "cell_type": "code",
   "execution_count": 62,
   "metadata": {},
   "outputs": [
    {
     "name": "stdout",
     "output_type": "stream",
     "text": [
      "lst: [11, 2, 5, 4, 3]\n",
      "lst1: [7, 3, 17, 5, 2, 11]\n"
     ]
    }
   ],
   "source": [
    "# list.reverse()\n",
    "lst1.reverse()\n",
    "print(f\"lst: {lst}\")\n",
    "print(f\"lst1: {lst1}\")"
   ]
  },
  {
   "cell_type": "code",
   "execution_count": 63,
   "metadata": {},
   "outputs": [
    {
     "name": "stdout",
     "output_type": "stream",
     "text": [
      "lst: [11, 2, 5, 4, 3]\n",
      "lst1: [2, 3, 5, 7, 11, 17]\n"
     ]
    }
   ],
   "source": [
    "# list.sort()\n",
    "lst1.sort()\n",
    "print(f\"lst: {lst}\")\n",
    "print(f\"lst1: {lst1}\")"
   ]
  },
  {
   "cell_type": "code",
   "execution_count": null,
   "metadata": {},
   "outputs": [],
   "source": []
  }
 ],
 "metadata": {
  "kernelspec": {
   "display_name": "Python 3",
   "language": "python",
   "name": "python3"
  },
  "language_info": {
   "codemirror_mode": {
    "name": "ipython",
    "version": 3
   },
   "file_extension": ".py",
   "mimetype": "text/x-python",
   "name": "python",
   "nbconvert_exporter": "python",
   "pygments_lexer": "ipython3",
   "version": "3.8.10"
  }
 },
 "nbformat": 4,
 "nbformat_minor": 2
}
