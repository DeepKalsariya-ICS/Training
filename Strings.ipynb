{
  "nbformat": 4,
  "nbformat_minor": 0,
  "metadata": {
    "colab": {
      "provenance": []
    },
    "kernelspec": {
      "name": "python3",
      "display_name": "Python 3"
    },
    "language_info": {
      "name": "python"
    }
  },
  "cells": [
    {
      "cell_type": "code",
      "execution_count": 1,
      "metadata": {
        "colab": {
          "base_uri": "https://localhost:8080/"
        },
        "id": "uORVh6Pjgf_e",
        "outputId": "8c63931f-0579-491a-8dcd-1f7f1fd67873"
      },
      "outputs": [
        {
          "output_type": "stream",
          "name": "stdout",
          "text": [
            "Original:    This string have spaces at end and beginning.  \n",
            "Result: This string have spaces at end and beginning.\n"
          ]
        }
      ],
      "source": [
        "# 1. Write a Python program to remove extra spaces from a given string\n",
        "# (remove beginning and end spaces but keep one space in between words).\n",
        "\n",
        "s = \"   This string have spaces at end and beginning.  \"\n",
        "print(f\"Original: {s}\")\n",
        "print(f\"Result: {s.strip()}\")"
      ]
    },
    {
      "cell_type": "code",
      "source": [
        "# 2. Write a Python program to find the second most repeated word in a given string.\n",
        "s2 = \"The quick brown fox jumps over lazy dog Lazy dog did not even noticed that the brown fox jumped.\"\n",
        "count_dict = {}\n",
        "words = s2.split()\n",
        "\n",
        "for word in words:\n",
        "    if word.lower() in count_dict:\n",
        "        count_dict[word.lower()] += 1\n",
        "    else:\n",
        "        count_dict[word.lower()] = 1\n",
        "# print(count_dict)\n",
        "\n",
        "sorted_items = sorted(count_dict.items(), key=lambda item: item[1], reverse=True)\n",
        "# print(sorted_items)\n",
        "\n",
        "second= sorted_items[1][0] if len(sorted_items) > 1 else None\n",
        "\n",
        "print(f\"The second most repeated word is: {second}\")\n",
        "\n"
      ],
      "metadata": {
        "colab": {
          "base_uri": "https://localhost:8080/"
        },
        "id": "Dr7HATNWhEr2",
        "outputId": "98fba40f-82cd-4046-f839-e192deb2f826"
      },
      "execution_count": 2,
      "outputs": [
        {
          "output_type": "stream",
          "name": "stdout",
          "text": [
            "The second most repeated word is: brown\n"
          ]
        }
      ]
    },
    {
      "cell_type": "code",
      "source": [
        "# 3. Write a Python program to find the smallest and largest word in a given string.\n",
        "s = \"   This string have random number of spaces at end and beginning.  \"\n",
        "largestWord = \"\"\n",
        "smallestWord = \"a\"*100000\n",
        "for word in s.split():\n",
        "    if len(word) > len(largestWord):\n",
        "        largestWord = word\n",
        "    if len(word) < len(smallestWord):\n",
        "        smallestWord = word\n",
        "\n",
        "print(f\"Largest word: {largestWord}\")\n",
        "print(f\"Smallest word: {smallestWord}\")"
      ],
      "metadata": {
        "colab": {
          "base_uri": "https://localhost:8080/"
        },
        "id": "qimUjEeyiMHG",
        "outputId": "d4db263a-8789-41c4-89fe-24cfe5eb46a3"
      },
      "execution_count": 3,
      "outputs": [
        {
          "output_type": "stream",
          "name": "stdout",
          "text": [
            "Largest word: beginning.\n",
            "Smallest word: of\n"
          ]
        }
      ]
    },
    {
      "cell_type": "code",
      "source": [
        "# 4. Write a Python program to wrap a given string into a paragraph of given width.\n",
        "import textwrap\n",
        "\n",
        "def wrap_text(string, width):\n",
        "    return textwrap.fill(string, width)\n",
        "\n",
        "width = 20\n",
        "print(\"Wrapped text:\\n\", wrap_text(s2, width) )"
      ],
      "metadata": {
        "colab": {
          "base_uri": "https://localhost:8080/"
        },
        "id": "-nb85rc4ijrh",
        "outputId": "994b5f02-a795-4475-e1ad-a884e7e5f2db"
      },
      "execution_count": 4,
      "outputs": [
        {
          "output_type": "stream",
          "name": "stdout",
          "text": [
            "Wrapped text:\n",
            " The quick brown fox\n",
            "jumps over lazy dog\n",
            "Lazy dog did not\n",
            "even noticed that\n",
            "the brown fox\n",
            "jumped.\n"
          ]
        }
      ]
    },
    {
      "cell_type": "code",
      "source": [
        "# 5. Write a Python program to swap cases of a given string.\n",
        "word = \"POSSIBILITIES\"\n",
        "print(f\"Original:- {word}\")\n",
        "print(f\"Result:- {word.swapcase()}\")"
      ],
      "metadata": {
        "colab": {
          "base_uri": "https://localhost:8080/"
        },
        "id": "7dgcGLx5jCMC",
        "outputId": "c45e40db-5ce7-4060-9d92-c2a15f8a798a"
      },
      "execution_count": 5,
      "outputs": [
        {
          "output_type": "stream",
          "name": "stdout",
          "text": [
            "Original:- POSSIBILITIES\n",
            "Result:- possibilities\n"
          ]
        }
      ]
    },
    {
      "cell_type": "code",
      "source": [
        "# 6. Write a Python program to remove unwanted characters from a given string.\n",
        "s = \"Write a Python program to remove unwanted characters from a given string.\"\n",
        "unwanted_char = \"a\"\n",
        "s.replace(unwanted_char, \"\")"
      ],
      "metadata": {
        "colab": {
          "base_uri": "https://localhost:8080/",
          "height": 35
        },
        "id": "Sfk3sS8VjnvR",
        "outputId": "ed0b3077-942c-43e2-ddef-9c2f448d595c"
      },
      "execution_count": 6,
      "outputs": [
        {
          "output_type": "execute_result",
          "data": {
            "text/plain": [
              "'Write  Python progrm to remove unwnted chrcters from  given string.'"
            ],
            "application/vnd.google.colaboratory.intrinsic+json": {
              "type": "string"
            }
          },
          "metadata": {},
          "execution_count": 6
        }
      ]
    },
    {
      "cell_type": "code",
      "source": [
        "# 7. Write a Python program to remove the characters which have odd index values of a given string.\n",
        "\n",
        "s = \"Write a Python program to remove the characters which have odd index values of a given string.\"\n",
        "s[::2]"
      ],
      "metadata": {
        "colab": {
          "base_uri": "https://localhost:8080/",
          "height": 35
        },
        "id": "IzpM0qY9k7aP",
        "outputId": "b3d21e12-d9c6-4f77-abac-fb351a032c5d"
      },
      "execution_count": 7,
      "outputs": [
        {
          "output_type": "execute_result",
          "data": {
            "text/plain": [
              "'WieaPto rga ormv h hrceswihhv d ne auso  ie tig'"
            ],
            "application/vnd.google.colaboratory.intrinsic+json": {
              "type": "string"
            }
          },
          "metadata": {},
          "execution_count": 7
        }
      ]
    },
    {
      "cell_type": "code",
      "source": [
        "# 8.\n",
        "s = input(\"Enter a String:\")\n",
        "words = []\n",
        "run = True\n",
        "while run:\n",
        "    word = input(\"Enter words to have a new line after:\")\n",
        "    if not word:\n",
        "        run = False\n",
        "    words.append(word)\n",
        "words.pop()\n",
        "\n",
        "for word in words:\n",
        "  s = s.replace(word,\"\\n\" + word)\n",
        "\n",
        "print(\"\\n\")\n",
        "print(s)"
      ],
      "metadata": {
        "colab": {
          "base_uri": "https://localhost:8080/"
        },
        "id": "zv73TT_uAcPW",
        "outputId": "1b9576c5-6812-4d57-ea51-ddc631dc1ecb"
      },
      "execution_count": 8,
      "outputs": [
        {
          "output_type": "stream",
          "name": "stdout",
          "text": [
            "Enter a String:Hello World, Nice weather today is sunny day.\n",
            "Enter words to have a new line after:Nice\n",
            "Enter words to have a new line after:today\n",
            "Enter words to have a new line after:\n",
            "\n",
            "\n",
            "Hello World, \n",
            "Nice weather \n",
            "today is sunny day.\n"
          ]
        }
      ]
    },
    {
      "cell_type": "code",
      "source": [
        "#9.\n",
        "s = input(\"Enter a String:\")\n",
        "print(s.replace(r\"\\n\",\"\\n\").replace(r\"\\t\",\"\\t\"))"
      ],
      "metadata": {
        "colab": {
          "base_uri": "https://localhost:8080/"
        },
        "id": "oCLkhsXxEiSh",
        "outputId": "6b30bfe7-3bef-4e89-b5ff-a8ec0f077291"
      },
      "execution_count": 9,
      "outputs": [
        {
          "output_type": "stream",
          "name": "stdout",
          "text": [
            "Enter a String:Hello World, \\n Nice weather, \\n\\t today is sunny day\n",
            "Hello World, \n",
            " Nice weather, \n",
            "\t today is sunny day\n"
          ]
        }
      ]
    },
    {
      "cell_type": "code",
      "source": [],
      "metadata": {
        "id": "cH2DJ78rFan1"
      },
      "execution_count": 9,
      "outputs": []
    }
  ]
}